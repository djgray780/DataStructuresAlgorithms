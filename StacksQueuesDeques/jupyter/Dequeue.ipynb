{
 "cells": [
  {
   "cell_type": "markdown",
   "metadata": {},
   "source": [
    "Implementing a Dequeue is quite similar to the Queue, noting that we'll want to keep track of three instance variables: `self._data, self._front, self._size`. Similarly, modular arithmetic can be used to keep track of the front and back indicies, although this time we'll want to modify it slightly to suit the structure. There are some additional things we'll want to think about too:\n",
    "\n",
    "1. Modular arithmetic is crucial to keeping track of back and front enqueues, similarly for back and fron dequeues. \n",
    "2. Reliance on the `_resize` method is important because Queues can extend in size (they are not fixed, like arrays).\n",
    "3. If we make a call to `add_first`, we might have to wrap around our array, so we can decrement our indicies with modular arithmetic as well. \n",
    "4. All operations should be O(1) in a dequeue, but ammortization can come into effect when resizing occurs. "
   ]
  },
  {
   "cell_type": "code",
   "execution_count": null,
   "metadata": {},
   "outputs": [],
   "source": [
    "class Empty:\n",
    "    pass\n",
    "\n",
    "class Dequeue:\n",
    "\n",
    "    DEFAULT_SIZE = 10\n",
    "\n",
    "    def __init__(self):\n",
    "        self._data = [None] * Dequeue.DEFAULT_SIZE\n",
    "        self._front = 0     # Like we did with the initial queue implementation\n",
    "        self._size = 0  # We will want this so that we can resize the underlying list\n",
    "\n",
    "    def __len__(self):\n",
    "        \"\"\"Return the length of the Dequeue\"\"\"\n",
    "        return len(self._data)\n",
    "\n",
    "    def left_enqueue(self, value):\n",
    "        \"\"\"Add element to the left of the Dequeue\"\"\"\n",
    "        pass\n",
    "\n",
    "    def right_enqueue(self, value):\n",
    "        \"\"\"Add element to the right of the Dequeue\"\"\"\n",
    "        pass\n",
    "\n",
    "    def left_dequeue(self):\n",
    "        \"\"\"Remove element from the left of the Dequeue; Raise exception if empty\"\"\"\n",
    "        pass\n",
    "\n",
    "    def right_dequeue(self):\n",
    "        \"\"\"Remove element from the right of the Dequeue; Raise exception if empty\"\"\"\n",
    "        pass\n",
    "\n",
    "    def is_empty(self):\n",
    "        \"\"\"Return True if Dequeue is empty\"\"\"\n",
    "        return len(self._data) == 0\n",
    "\n",
    "    def first(self):\n",
    "        \"\"\"Return the first element of the Dequeue\"\"\"\n",
    "        pass\n",
    "\n",
    "    def last(self):\n",
    "        \"\"\"Return the last element of the Dequeue\"\"\"\n",
    "\n",
    "    def _resize(self):\n",
    "        \"\"\"Allow for resizing of the array when capacity is reached\"\"\"\n",
    "        pass"
   ]
  },
  {
   "cell_type": "code",
   "execution_count": 2,
   "metadata": {},
   "outputs": [
    {
     "name": "stdout",
     "output_type": "stream",
     "text": [
      "deque(['x_1', 'x_2', 'x_3'])\n",
      "deque(['x_4', 'x_1', 'x_2', 'x_3'])\n",
      "9\n"
     ]
    }
   ],
   "source": [
    "from collections import deque\n",
    "\n",
    "dequeue = deque(['x_1','x_2','x_3'])\n",
    "print(dequeue)\n",
    "dequeue.appendleft('x_4')\n",
    "print(dequeue)\n",
    "print(-1 % 10)"
   ]
  }
 ],
 "metadata": {
  "interpreter": {
   "hash": "73cf230e457d03043c011dd8605eb510cb14190323b326be5635249db273acb4"
  },
  "kernelspec": {
   "display_name": "Python 3.8.10 64-bit ('venv': venv)",
   "language": "python",
   "name": "python3"
  },
  "language_info": {
   "codemirror_mode": {
    "name": "ipython",
    "version": 3
   },
   "file_extension": ".py",
   "mimetype": "text/x-python",
   "name": "python",
   "nbconvert_exporter": "python",
   "pygments_lexer": "ipython3",
   "version": "3.8.10"
  },
  "orig_nbformat": 4
 },
 "nbformat": 4,
 "nbformat_minor": 2
}
