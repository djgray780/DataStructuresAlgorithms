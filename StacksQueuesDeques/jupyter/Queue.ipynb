{
 "cells": [
  {
   "cell_type": "code",
   "execution_count": 2,
   "metadata": {},
   "outputs": [],
   "source": [
    "class Empty:\n",
    "    pass\n",
    "\n",
    "class QueueArray:\n",
    "    DEFAULT_CAPACITY = 10\n",
    "\n",
    "    def __init__(self):\n",
    "        \"\"\"Initialize an empty Queue\"\"\"\n",
    "        self._data = [None] * QueueArray.DEFAULT_CAPACITY\n",
    "        self._size = 0\n",
    "        self._front = 0\n",
    "\n",
    "    def __len__(self):\n",
    "        \"\"\"Return the number of elements in the Queue\"\"\"\n",
    "        return self._size\n",
    "\n",
    "    def is_empty(self):    \n",
    "        \"\"\"Return True if the Queue is empty\"\"\"\n",
    "        return len(self._data) == 0\n",
    "\n",
    "    def first(self):\n",
    "        \"\"\"Return (no removal) of the element at front of the Queue; Raise Empty Exception\"\"\"\n",
    "        if self.is_empty():\n",
    "            raise Empty('The Queue is empty')\n",
    "        return self._data[self._front]  # Note that self._data[-1] is incorrect when thinking of a queue.\n",
    "\n",
    "    def _increment_front(self):\n",
    "        return (self._front + 1) % len(self._data)\n",
    "\n",
    "    def _next_available_index(self):\n",
    "        return (self._front + self._size) % len(self._data)\n",
    "\n",
    "    def dequeue(self):\n",
    "        \"\"\"Remove & return first element of the queue; Raise Empty Exception\"\"\"\n",
    "        if self.is_empty():\n",
    "            raise Empty('The Queue is empty')\n",
    "        \n",
    "        first_in_queue = self._data[self._front]\n",
    "        self._data[self._front] = None  # This is for memory management (Goodrich, 2013, pg 245)\n",
    "        self._front = self._increment_front()   # Adjust the front index upon removal\n",
    "        self._size -= 1\n",
    "        return first_in_queue\n",
    "\n",
    "    def enqueue(self, e):\n",
    "        \"\"\"Add element to the back of Queue\"\"\"\n",
    "        if self._size == len(self._data):   # We need to resize when the queue is at capacity.\n",
    "            self._resize(2 * len(self._data))   # Double the size of the array\n",
    "        \n",
    "        index_to_insert = self._next_available_index()\n",
    "        self._data[index_to_insert] = e\n",
    "        self._size += 1 # Increment size.\n",
    "\n",
    "    def _resize(self, cap):\n",
    "        old = self._data\n",
    "        self._data = [None] * cap\n",
    "        walk = self._front\n",
    "        for k in range(self._size):\n",
    "            self._data[k] = old[walk]\n",
    "            walk = (1 + walk) % len(old)\n",
    "        self._front = 0\n",
    "\n",
    "\n",
    "        \"\"\"Resize the underlying list to new capacity\"\"\""
   ]
  },
  {
   "cell_type": "code",
   "execution_count": 9,
   "metadata": {},
   "outputs": [],
   "source": [
    "p = QueueArray()"
   ]
  },
  {
   "cell_type": "code",
   "execution_count": 12,
   "metadata": {},
   "outputs": [
    {
     "name": "stdout",
     "output_type": "stream",
     "text": [
      "39\n"
     ]
    }
   ],
   "source": [
    "p.enqueue(1)\n",
    "p.enqueue(2)\n",
    "p.enqueue(3)\n",
    "p.enqueue(4)\n",
    "p.enqueue(5)\n",
    "p.enqueue(6)\n",
    "p.enqueue(7)\n",
    "p.enqueue(8)\n",
    "p.enqueue(9)\n",
    "p.enqueue(10)\n",
    "p.enqueue(11)\n",
    "p.enqueue(12)\n",
    "p.enqueue(13)\n",
    "len(p)\n",
    "print(p._size)"
   ]
  },
  {
   "cell_type": "code",
   "execution_count": null,
   "metadata": {},
   "outputs": [],
   "source": [
    "class QueueArray:\n",
    "\n",
    "    DEFAULT_QUEUE_SIZE = 10\n",
    "\n",
    "    def __init__(self):\n",
    "        self._data = [None] * QueueArray.DEFAULT_QUEUE_SIZE\n",
    "        self._front = 0\n",
    "        self._size = 0\n",
    "\n",
    "    def __len__(self):\n",
    "        \"\"\"Return number of elements in the Queue\"\"\"\n",
    "        return self._size \n",
    "\n",
    "    def front(self):\n",
    "        \"\"\"Looks at the first element of the queue\"\"\"\n",
    "        if self.is_empty():\n",
    "            raise Exception(\"Queue is empty\")\n",
    "        return self._data[self._front]\n",
    "\n",
    "    def enqueue(self, value):\n",
    "        \"\"\"Adds element to the back of the queue\"\"\"\n",
    "        if self._size == len(self._data):\n",
    "            self._resize(2 * len(self._data))\n",
    "        open_index = (self._front + self._size) % len(self._data) # Find the new open index\n",
    "        self._data[open_index] = value\n",
    "        self._size += 1\n",
    "\n",
    "\n",
    "    def _resize(self):\n",
    "        pass \n",
    "\n",
    "    def dequeue(self):\n",
    "        \"\"\"Remove element from the front of the queue\"\"\"\n",
    "        if self.is_empty():\n",
    "            raise Exception(\"Queue is empty\")\n",
    "        # Store removed element \n",
    "        removed_element = self._data[self._front]\n",
    "        self._data[self._front] = None\n",
    "        self._front = (self._front + 1) % len(self._data)\n",
    "        self._size -= 1\n",
    "        return removed_element\n",
    "\n",
    "    def is_empty(self):\n",
    "        \"\"\"Check to see if queue is empty\"\"\"\n",
    "        return self._size == 0"
   ]
  },
  {
   "cell_type": "code",
   "execution_count": 7,
   "metadata": {},
   "outputs": [
    {
     "data": {
      "text/plain": [
       "1"
      ]
     },
     "execution_count": 7,
     "metadata": {},
     "output_type": "execute_result"
    }
   ],
   "source": [
    "12 % 11"
   ]
  }
 ],
 "metadata": {
  "interpreter": {
   "hash": "73cf230e457d03043c011dd8605eb510cb14190323b326be5635249db273acb4"
  },
  "kernelspec": {
   "display_name": "Python 3.8.10 64-bit ('venv': venv)",
   "language": "python",
   "name": "python3"
  },
  "language_info": {
   "codemirror_mode": {
    "name": "ipython",
    "version": 3
   },
   "file_extension": ".py",
   "mimetype": "text/x-python",
   "name": "python",
   "nbconvert_exporter": "python",
   "pygments_lexer": "ipython3",
   "version": "3.8.10"
  },
  "orig_nbformat": 4
 },
 "nbformat": 4,
 "nbformat_minor": 2
}
