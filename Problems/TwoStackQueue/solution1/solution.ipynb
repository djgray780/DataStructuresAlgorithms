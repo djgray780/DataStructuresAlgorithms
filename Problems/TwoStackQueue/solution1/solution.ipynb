{
 "cells": [
  {
   "cell_type": "code",
   "execution_count": 16,
   "metadata": {},
   "outputs": [
    {
     "name": "stdout",
     "output_type": "stream",
     "text": [
      "14\n",
      "14\n"
     ]
    }
   ],
   "source": [
    "class MyQueue(object):\n",
    "    def __init__(self):\n",
    "        self.s1 = []    # Use for Enqueue\n",
    "        self.s2 = []    # Use for Dequeue\n",
    "\n",
    "    def __len__(self):\n",
    "        return len(self.s1) + len(self.s2)\n",
    "\n",
    "    def is_empty(self):\n",
    "        return len(self.s1) + len(self.s2) == 0\n",
    "\n",
    "    def put(self, value):\n",
    "        self.s1.append(value)\n",
    "\n",
    "    def pop(self):\n",
    "        if len(self.s2) == 0:\n",
    "            while len(self.s1) != 0:\n",
    "                self.s2.append(self.s1.pop())\n",
    "        self.s2.pop()\n",
    "\n",
    "    def peek(self):\n",
    "        if len(self.s2) == 0:\n",
    "            while len(self.s1) != 0:\n",
    "                self.s2.append(self.s1.pop())\n",
    "        return self.s2[-1]\n",
    "\n",
    "\n",
    "q = MyQueue()\n",
    "q.enqueue(42)\n",
    "q.dequeue()\n",
    "q.enqueue(14)\n",
    "q.front()\n",
    "q.enqueue(28)\n",
    "q.front()\n",
    "q.enqueue(60)\n",
    "q.enqueue(78)\n",
    "q.dequeue()\n",
    "q.dequeue()"
   ]
  }
 ],
 "metadata": {
  "interpreter": {
   "hash": "73cf230e457d03043c011dd8605eb510cb14190323b326be5635249db273acb4"
  },
  "kernelspec": {
   "display_name": "Python 3.8.10 64-bit ('venv': venv)",
   "language": "python",
   "name": "python3"
  },
  "language_info": {
   "codemirror_mode": {
    "name": "ipython",
    "version": 3
   },
   "file_extension": ".py",
   "mimetype": "text/x-python",
   "name": "python",
   "nbconvert_exporter": "python",
   "pygments_lexer": "ipython3",
   "version": "3.8.10"
  },
  "orig_nbformat": 4
 },
 "nbformat": 4,
 "nbformat_minor": 2
}
